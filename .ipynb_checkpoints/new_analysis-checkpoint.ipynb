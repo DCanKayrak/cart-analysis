{
 "cells": [
  {
   "cell_type": "code",
   "execution_count": 4,
   "id": "5c0e393b",
   "metadata": {},
   "outputs": [],
   "source": [
    "import pandas as pd\n",
    "import numpy as np\n",
    "import networkx as nx\n",
    "import matplotlib.pyplot as plt"
   ]
  },
  {
   "cell_type": "code",
   "execution_count": 5,
   "id": "dc9466bf",
   "metadata": {},
   "outputs": [],
   "source": [
    "df_customers = pd.read_csv('data/olist_customers_dataset.csv')\n",
    "df_order_items = pd.read_csv('data/olist_order_items_dataset.csv')\n",
    "df_orders = pd.read_csv('data/olist_orders_dataset.csv')\n",
    "df_products = pd.read_csv('data/olist_products_dataset.csv')\n",
    "\n",
    "# Veri temizleme işlemleri (eksik değerleri düşürme vs.)\n",
    "df_orders = df_orders.dropna()\n",
    "df_products = df_products.dropna()\n",
    "\n",
    "# Müşteriler ve siparişler arasındaki ilişkiyi oluşturma\n",
    "df_customers_orders = df_customers.merge(df_orders, on='customer_id')\n",
    "\n",
    "# Siparişler ve sipariş kalemleri arasındaki ilişkiyi oluşturma\n",
    "orders_order_items = df_orders.merge(df_order_items, on='order_id')\n",
    "\n",
    "# En çok satın alan müşterileri seçme\n",
    "top_customer_ids = orders_order_items['customer_id'].value_counts().head(20)\n",
    "top_customer_data = orders_order_items[orders_order_items['customer_id'].isin(top_customer_ids.index)]\n",
    "\n",
    "# İlk 100 satırı al\n",
    "df_customers_subset = df_customers[df_customers['customer_id'].isin(top_customer_data['customer_id'].unique())]\n"
   ]
  },
  {
   "cell_type": "code",
   "execution_count": null,
   "id": "d3f9a015",
   "metadata": {},
   "outputs": [],
   "source": [
    "import pandas as pd\n",
    "import numpy as np\n",
    "import networkx as nx\n",
    "import matplotlib.pyplot as plt\n",
    "\n",
    "df_customers = pd.read_csv('data/olist_customers_dataset.csv')\n",
    "df_order_items = pd.read_csv('data/olist_order_items_dataset.csv')\n",
    "df_orders = pd.read_csv('data/olist_orders_dataset.csv')\n",
    "df_products = pd.read_csv('data/olist_products_dataset.csv')\n",
    "\n",
    "# Veri temizleme işlemleri (eksik değerleri düşürme vs.)\n",
    "df_orders = df_orders.dropna()\n",
    "df_products = df_products.dropna()\n",
    "\n",
    "# Müşteriler ve siparişler arasındaki ilişkiyi oluşturma\n",
    "df_customers_orders = df_customers.merge(df_orders, on='customer_id')\n",
    "\n",
    "# Siparişler ve sipariş kalemleri arasındaki ilişkiyi oluşturma\n",
    "orders_order_items = df_orders.merge(df_order_items, on='order_id')\n",
    "\n",
    "# En çok satın alan müşterileri seçme\n",
    "top_customer_ids = orders_order_items['customer_id'].value_counts().head(5)\n",
    "top_customer_data = orders_order_items[orders_order_items['customer_id'].isin(top_customer_ids.index)]\n",
    "\n",
    "# İlk 100 satırı al\n",
    "df_customers_subset = df_customers[df_customers['customer_id'].isin(top_customer_data['customer_id'].unique())]\n",
    "\n",
    "# Graf oluşturma\n",
    "G = nx.DiGraph()\n",
    "\n",
    "# Kullanıcıları düğümler olarak ekle (mavi renk)\n",
    "for _, row in df_customers_subset.iterrows():\n",
    "    G.add_node(row['customer_unique_id'], color='blue')\n",
    "\n",
    "# Ürünleri düğümler olarak ekle (yeşil renk)\n",
    "for _, row in df_products.iterrows():\n",
    "    G.add_node(row['product_id'], color='green')\n",
    "\n",
    "# Siparişleri ve ürünleri bağlantılar olarak ekle\n",
    "for _, row in orders_order_items.iterrows():\n",
    "    df_customers_ids = df_customers_subset.loc[df_customers_subset['customer_id'] == row['customer_id'], 'customer_unique_id'].values\n",
    "    if len(df_customers_ids) > 0:\n",
    "        G.add_edge(df_customers_ids[0], row['product_id'])\n",
    "\n",
    "# Düğümlerin renklerini ayarla\n",
    "node_colors = [node[1]['color'] for node in G.nodes(data=True)]\n",
    "\n",
    "# Grafı çiz\n",
    "plt.figure(figsize=(12, 8))\n",
    "# Düğümleri çiz\n",
    "pos = nx.circular_layout(G)  # Düğümleri çember üzerine yerleştir\n",
    "nx.draw_networkx_nodes(G, pos, node_color=node_colors, node_size=500)\n",
    "# Bağlantıları çiz\n",
    "nx.draw_networkx_edges(G, pos)\n",
    "# Düğüm etiketlerini ekle\n",
    "nx.draw_networkx_labels(G, pos, font_size=7)\n",
    "plt.title(\"Kullanıcılar ve Aldıkları Ürünler Arasındaki İlişkiler\")\n",
    "plt.show()\n"
   ]
  },
  {
   "cell_type": "code",
   "execution_count": null,
   "id": "5c1dceae",
   "metadata": {},
   "outputs": [],
   "source": []
  },
  {
   "cell_type": "code",
   "execution_count": null,
   "id": "3fe43ebe",
   "metadata": {},
   "outputs": [],
   "source": []
  },
  {
   "cell_type": "code",
   "execution_count": null,
   "id": "d6a418ad",
   "metadata": {},
   "outputs": [],
   "source": []
  }
 ],
 "metadata": {
  "kernelspec": {
   "display_name": "Python 3 (ipykernel)",
   "language": "python",
   "name": "python3"
  },
  "language_info": {
   "codemirror_mode": {
    "name": "ipython",
    "version": 3
   },
   "file_extension": ".py",
   "mimetype": "text/x-python",
   "name": "python",
   "nbconvert_exporter": "python",
   "pygments_lexer": "ipython3",
   "version": "3.9.12"
  }
 },
 "nbformat": 4,
 "nbformat_minor": 5
}
