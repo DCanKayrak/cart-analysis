{
 "cells": [
  {
   "cell_type": "code",
   "execution_count": 1,
   "id": "bcd965ab-efeb-4255-b17e-9a2e5e06457c",
   "metadata": {},
   "outputs": [
    {
     "name": "stdout",
     "output_type": "stream",
     "text": [
      "Requirement already satisfied: pandas in c:\\users\\danya\\anaconda3\\envs\\test\\lib\\site-packages (2.2.2)\n",
      "Requirement already satisfied: numpy in c:\\users\\danya\\anaconda3\\envs\\test\\lib\\site-packages (1.23.1)\n",
      "Requirement already satisfied: networkx in c:\\users\\danya\\anaconda3\\envs\\test\\lib\\site-packages (3.2.1)\n",
      "Requirement already satisfied: matplotlib in c:\\users\\danya\\anaconda3\\envs\\test\\lib\\site-packages (3.8.4)\n",
      "Requirement already satisfied: pytz>=2020.1 in c:\\users\\danya\\anaconda3\\envs\\test\\lib\\site-packages (from pandas) (2022.1)\n",
      "Requirement already satisfied: tzdata>=2022.7 in c:\\users\\danya\\anaconda3\\envs\\test\\lib\\site-packages (from pandas) (2024.1)\n",
      "Requirement already satisfied: python-dateutil>=2.8.2 in c:\\users\\danya\\anaconda3\\envs\\test\\lib\\site-packages (from pandas) (2.8.2)\n",
      "Requirement already satisfied: importlib-resources>=3.2.0 in c:\\users\\danya\\anaconda3\\envs\\test\\lib\\site-packages (from matplotlib) (6.4.0)\n",
      "Requirement already satisfied: cycler>=0.10 in c:\\users\\danya\\anaconda3\\envs\\test\\lib\\site-packages (from matplotlib) (0.12.1)\n",
      "Requirement already satisfied: pillow>=8 in c:\\users\\danya\\anaconda3\\envs\\test\\lib\\site-packages (from matplotlib) (10.3.0)\n",
      "Requirement already satisfied: contourpy>=1.0.1 in c:\\users\\danya\\anaconda3\\envs\\test\\lib\\site-packages (from matplotlib) (1.2.1)\n",
      "Requirement already satisfied: fonttools>=4.22.0 in c:\\users\\danya\\anaconda3\\envs\\test\\lib\\site-packages (from matplotlib) (4.51.0)\n",
      "Requirement already satisfied: kiwisolver>=1.3.1 in c:\\users\\danya\\anaconda3\\envs\\test\\lib\\site-packages (from matplotlib) (1.4.5)\n",
      "Requirement already satisfied: packaging>=20.0 in c:\\users\\danya\\anaconda3\\envs\\test\\lib\\site-packages (from matplotlib) (21.3)\n",
      "Requirement already satisfied: pyparsing>=2.3.1 in c:\\users\\danya\\anaconda3\\envs\\test\\lib\\site-packages (from matplotlib) (3.0.9)\n",
      "Requirement already satisfied: zipp>=3.1.0 in c:\\users\\danya\\anaconda3\\envs\\test\\lib\\site-packages (from importlib-resources>=3.2.0->matplotlib) (3.8.0)\n",
      "Requirement already satisfied: six>=1.5 in c:\\users\\danya\\anaconda3\\envs\\test\\lib\\site-packages (from python-dateutil>=2.8.2->pandas) (1.16.0)\n",
      "Note: you may need to restart the kernel to use updated packages.\n"
     ]
    }
   ],
   "source": [
    "pip install pandas numpy networkx matplotlib"
   ]
  },
  {
   "cell_type": "code",
   "execution_count": null,
   "id": "fcd8609e-b236-4501-84e0-bcf94a9a925f",
   "metadata": {
    "scrolled": true
   },
   "outputs": [],
   "source": [
    "import pandas as pd\n",
    "import numpy as np\n",
    "import networkx as nx\n",
    "import matplotlib.pyplot as plt\n",
    "\n",
    "# 100 tane anlamlı ürün ismi\n",
    "product_names = [\n",
    "    'Wireless Mouse', 'Bluetooth Headphones', 'Laptop Stand', 'Portable Charger', 'USB-C Hub', 'Smartwatch', 'Noise Cancelling Headphones', \n",
    "    'Fitness Tracker', 'External Hard Drive', 'LED Desk Lamp', 'Ergonomic Chair', 'Mechanical Keyboard', 'Gaming Mouse', '4K Monitor', \n",
    "    'Smartphone Stand', 'Wireless Earbuds', 'Bluetooth Speaker', 'Smart Home Hub', 'Robot Vacuum', 'Smart Light Bulb', 'Portable Projector', \n",
    "    'Webcam', 'Streaming Microphone', 'Graphics Tablet', 'Smart Thermostat', 'Electric Toothbrush', 'Digital Photo Frame', 'E-Reader', \n",
    "    'Smart Lock', 'Wireless Security Camera', 'Air Purifier', 'Electric Kettle', 'Espresso Machine', 'Blender', 'Slow Cooker', 'Rice Cooker', \n",
    "    'Air Fryer', 'Food Processor', 'Stand Mixer', 'Toaster Oven', 'Electric Griddle', 'Instant Pot', 'Electric Skillet', 'Cordless Drill', \n",
    "    'Tool Set', 'Circular Saw', 'Electric Screwdriver', 'Lawn Mower', 'Leaf Blower', 'Pressure Washer', 'Garden Hose', 'Garden Shears', \n",
    "    'Smart Sprinkler', 'Fitness Bike', 'Treadmill', 'Yoga Mat', 'Dumbbell Set', 'Kettlebell', 'Resistance Bands', 'Foam Roller', \n",
    "    'Weight Bench', 'Jump Rope', 'Pull-Up Bar', 'Running Shoes', 'Hiking Boots', 'Tent', 'Sleeping Bag', 'Camping Stove', 'Backpack', \n",
    "    'Flashlight', 'Binoculars', 'Fishing Rod', 'Cooler', 'Inflatable Kayak', 'Paddle Board', 'Snorkel Set', 'Wet Suit', 'Life Jacket', \n",
    "    'Picnic Blanket', 'Portable Grill', 'Fire Pit', 'Outdoor Speaker', 'Hammock', 'Solar Charger', 'Water Bottle', 'Travel Mug', \n",
    "    'Luggage Set', 'Packing Cubes', 'Travel Pillow', 'Travel Adapter', 'Portable WiFi Hotspot', 'Noise-Cancelling Earplugs', 'Travel Backpack', \n",
    "    'Action Camera', 'Drone', 'Digital Camera', 'Camera Lens', 'Tripod', 'Memory Card', 'Camera Bag', 'Photo Printer'\n",
    "]\n",
    "\n",
    "# Mevcut veri setini yükleme\n",
    "df_customers = pd.read_csv('data/olist_customers_dataset.csv')\n",
    "df_order_items = pd.read_csv('data/olist_order_items_dataset.csv')\n",
    "df_orders = pd.read_csv('data/olist_orders_dataset.csv')\n",
    "df_products = pd.read_csv('data/olist_products_dataset.csv')\n",
    "\n",
    "# Veri temizleme\n",
    "df_orders.isnull().sum()\n",
    "df_orders = df_orders.dropna()\n",
    "df_order_items.isnull().sum()\n",
    "df_products = df_products.dropna()\n",
    "\n",
    "# Ürün ID'lerini alma\n",
    "product_ids = df_products['product_id'].unique()\n",
    "\n",
    "# Ürün ID'leri ile ürün isimlerini eşleştirme\n",
    "np.random.seed(42)  # Rastgeleliğin tekrarlanabilir olması için\n",
    "product_name_mapping = dict(zip(product_ids, np.random.choice(product_names, len(product_ids), replace=True)))\n",
    "\n",
    "# Ürün isimlerini df_order_items veri setine ekleme\n",
    "df_order_items['product_name'] = df_order_items['product_id'].map(product_name_mapping)\n",
    "\n",
    "# Müşteri ve sipariş verilerini birleştirme\n",
    "df_customers_orders = df_customers.merge(df_orders, on='customer_id')\n",
    "orders_order_items = df_orders.merge(df_order_items, on='order_id')\n",
    "top_customer_ids = orders_order_items['customer_id'].value_counts().head(20)\n",
    "top_customer_data = orders_order_items[orders_order_items['customer_id'].isin(top_customer_ids.index)]\n",
    "\n",
    "# İlk 100 satırı al\n",
    "df_customers_subset = df_customers[df_customers['customer_id'].isin(top_customer_data['customer_id'].unique())]\n",
    "\n",
    "# Graf oluşturalım\n",
    "G = nx.DiGraph()\n",
    "\n",
    "# Kullanıcıları düğümler olarak ekle\n",
    "for _, row in df_customers_subset.iterrows():\n",
    "    G.add_node(row['customer_unique_id'])\n",
    "\n",
    "# Siparişleri ve ürünleri bağlantılar olarak ekle\n",
    "for _, row in orders_order_items.iterrows():\n",
    "    df_customers_ids = df_customers_subset.loc[df_customers_subset['customer_id'] == row['customer_id'], 'customer_unique_id'].values\n",
    "    if len(df_customers_ids) > 0:\n",
    "        G.add_edge(df_customers_ids[0], row['product_name'])\n",
    "\n",
    "# Grafı çizelim\n",
    "plt.figure(figsize=(10, 8))\n",
    "\n",
    "# Müşteri ve ürün düğümlerini ayırt etmek için renkler\n",
    "node_colors = ['lightblue' if node in df_customers_subset['customer_unique_id'].values else 'lightgreen' for node in G.nodes]\n",
    "\n",
    "nx.draw_networkx(G, with_labels=True, node_color=node_colors, node_size=500, font_size=7)\n",
    "plt.title(\"Kullanıcılar ve Aldıkları Ürünler Arasındaki İlişkiler\")\n",
    "plt.show()"
   ]
  },
  {
   "cell_type": "code",
   "execution_count": null,
   "id": "4d3b8ee0-9285-4b7c-add9-7f5b0358bc27",
   "metadata": {},
   "outputs": [],
   "source": []
  }
 ],
 "metadata": {
  "kernelspec": {
   "display_name": "Python 3 (ipykernel)",
   "language": "python",
   "name": "python3"
  },
  "language_info": {
   "codemirror_mode": {
    "name": "ipython",
    "version": 3
   },
   "file_extension": ".py",
   "mimetype": "text/x-python",
   "name": "python",
   "nbconvert_exporter": "python",
   "pygments_lexer": "ipython3",
   "version": "3.9.13"
  }
 },
 "nbformat": 4,
 "nbformat_minor": 5
}
